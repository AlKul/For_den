{
 "cells": [
  {
   "cell_type": "markdown",
   "id": "98ee8902-f9c1-4a87-9df4-af3f911ff189",
   "metadata": {
    "jp-MarkdownHeadingCollapsed": true,
    "tags": []
   },
   "source": [
    "# Вариант 28\n",
    "\n"
   ]
  },
  {
   "cell_type": "markdown",
   "id": "3ca174ee-5bcb-44a0-a2e4-010cf537d4f3",
   "metadata": {},
   "source": [
    "# 1\n",
    "\n",
    "R = c.T * (d * c.T + B) * d"
   ]
  },
  {
   "cell_type": "code",
   "execution_count": 2,
   "id": "3105e55a-8891-4b56-aa27-27496da54877",
   "metadata": {},
   "outputs": [],
   "source": [
    "import numpy as np"
   ]
  },
  {
   "cell_type": "code",
   "execution_count": 3,
   "id": "0765ff44-2d72-4d15-99fb-c76bb25a33c3",
   "metadata": {},
   "outputs": [],
   "source": [
    "\n",
    "B = np.array([\n",
    "    [8, 9],\n",
    "    [1, 8],\n",
    "    [6, 2]\n",
    "])\n",
    "\n",
    "c = np.array([\n",
    "    [9],\n",
    "    [3]\n",
    "])\n",
    "\n",
    "d = np.array([\n",
    "    [9],\n",
    "    [6],\n",
    "    [9]\n",
    "])"
   ]
  },
  {
   "cell_type": "code",
   "execution_count": null,
   "id": "e3100ef4-68d3-4fc6-91a7-78aff66a0e46",
   "metadata": {},
   "outputs": [],
   "source": []
  },
  {
   "cell_type": "markdown",
   "id": "5606f893-ee14-41d5-9414-3e94ba2eed88",
   "metadata": {},
   "source": []
  },
  {
   "cell_type": "code",
   "execution_count": 7,
   "id": "103ccdf4-357e-4de0-9e47-09a1a29b5b98",
   "metadata": {},
   "outputs": [
    {
     "ename": "ValueError",
     "evalue": "operands could not be broadcast together with shapes (3,2) (2,3) ",
     "output_type": "error",
     "traceback": [
      "\u001b[0;31m---------------------------------------------------------------------------\u001b[0m",
      "\u001b[0;31mValueError\u001b[0m                                Traceback (most recent call last)",
      "\u001b[0;32m/var/folders/zn/1572lrw14snff0mc3dlr9grc0000gn/T/ipykernel_45880/626006997.py\u001b[0m in \u001b[0;36m<module>\u001b[0;34m\u001b[0m\n\u001b[0;32m----> 1\u001b[0;31m \u001b[0mR\u001b[0m \u001b[0;34m=\u001b[0m \u001b[0mc\u001b[0m\u001b[0;34m.\u001b[0m\u001b[0mT\u001b[0m \u001b[0;34m@\u001b[0m \u001b[0;34m(\u001b[0m\u001b[0md\u001b[0m \u001b[0;34m@\u001b[0m\u001b[0mc\u001b[0m\u001b[0;34m.\u001b[0m\u001b[0mT\u001b[0m \u001b[0;34m+\u001b[0m \u001b[0mB\u001b[0m\u001b[0;34m.\u001b[0m\u001b[0mT\u001b[0m\u001b[0;34m)\u001b[0m\u001b[0;34m@\u001b[0m \u001b[0md\u001b[0m\u001b[0;34m\u001b[0m\u001b[0;34m\u001b[0m\u001b[0m\n\u001b[0m",
      "\u001b[0;31mValueError\u001b[0m: operands could not be broadcast together with shapes (3,2) (2,3) "
     ]
    }
   ],
   "source": [
    "R = c.T @ (d @c.T + B.T)@ d"
   ]
  },
  {
   "cell_type": "markdown",
   "id": "0c74699d-a8bd-42af-b190-f2cc19ec9378",
   "metadata": {},
   "source": [
    "# Вылетела ошибка из-за несоответствия размерностей матриц\n",
    "\n",
    "Действительно:\n",
    "\n",
    "Матрица в скобках имеет размерность __3x2__, эта матрица умножается слева на вектор размера __(1, 3)__\n",
    "\n",
    "Следовательно:"
   ]
  },
  {
   "cell_type": "markdown",
   "id": "4e2025b5-dbdf-4c9c-8575-6039da738cef",
   "metadata": {},
   "source": [
    "## Ответ"
   ]
  },
  {
   "cell_type": "markdown",
   "id": "f3d561a5-53c1-41f5-b7f3-d29312262972",
   "metadata": {},
   "source": [
    "Результирующая матрица неопределена"
   ]
  },
  {
   "cell_type": "markdown",
   "id": "f363c267-2d2f-4ce2-958b-fdabe1a44d99",
   "metadata": {
    "tags": []
   },
   "source": [
    "# №2\n",
    "\n",
    "Решите систему линейных алгебраических уравнений (СЛАУ) методом обратной матрицы:\n",
    "\n",
    "$\n",
    "\\begin{cases}\n",
    "x_1  + 2x_2 + 3x_3 = 4 \\\\\n",
    "2x_1  + x_2 - x_3 = 3 \\\\ \n",
    "3x_1  + 3x_2 + 2x_3 = 3\n",
    "\\end{cases}\n",
    "$"
   ]
  },
  {
   "cell_type": "code",
   "execution_count": 16,
   "id": "9fe8ac04-7f0f-4ce0-ad8b-360040999139",
   "metadata": {},
   "outputs": [],
   "source": [
    "A = np.array([\n",
    "    [1, 2, 3],\n",
    "    [2, 1, -1],\n",
    "    [3, 3, 2]\n",
    "])"
   ]
  },
  {
   "cell_type": "code",
   "execution_count": 17,
   "id": "9bd84bca-e95f-45e3-845a-7b6f5457aea3",
   "metadata": {},
   "outputs": [
    {
     "data": {
      "text/plain": [
       "array([[ 1,  2,  3],\n",
       "       [ 2,  1, -1],\n",
       "       [ 3,  3,  2]])"
      ]
     },
     "execution_count": 17,
     "metadata": {},
     "output_type": "execute_result"
    }
   ],
   "source": [
    "A"
   ]
  },
  {
   "cell_type": "code",
   "execution_count": 18,
   "id": "7cc3bd38-cb2f-4c81-b978-e08a520f00ac",
   "metadata": {},
   "outputs": [
    {
     "data": {
      "text/plain": [
       "5.551115123125763e-16"
      ]
     },
     "execution_count": 18,
     "metadata": {},
     "output_type": "execute_result"
    }
   ],
   "source": [
    "np.linalg.det(A)"
   ]
  },
  {
   "cell_type": "markdown",
   "id": "1da5f4a4-4218-4519-a37e-01448821197c",
   "metadata": {},
   "source": [
    "Матрица А вырождена, а, значит, метод обратной матрицы __НЕприменим__ (т к таковой не существует)"
   ]
  }
 ],
 "metadata": {
  "kernelspec": {
   "display_name": "Python 3 (ipykernel)",
   "language": "python",
   "name": "python3"
  },
  "language_info": {
   "codemirror_mode": {
    "name": "ipython",
    "version": 3
   },
   "file_extension": ".py",
   "mimetype": "text/x-python",
   "name": "python",
   "nbconvert_exporter": "python",
   "pygments_lexer": "ipython3",
   "version": "3.9.7"
  }
 },
 "nbformat": 4,
 "nbformat_minor": 5
}
