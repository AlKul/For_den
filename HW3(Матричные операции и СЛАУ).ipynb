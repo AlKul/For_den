{
 "cells": [
  {
   "cell_type": "markdown",
   "id": "9742c768-8b05-42e7-b0e7-ad28b92faa69",
   "metadata": {},
   "source": [
    "# №1 (Номер 49 - Вариант 4)\n",
    "\n",
    "Задания: \n",
    "\n",
    "$ R = B^T \\cdot A^T + C$"
   ]
  },
  {
   "cell_type": "code",
   "execution_count": 2,
   "id": "3105e55a-8891-4b56-aa27-27496da54877",
   "metadata": {},
   "outputs": [],
   "source": [
    "import numpy as np"
   ]
  },
  {
   "cell_type": "code",
   "execution_count": 6,
   "id": "0765ff44-2d72-4d15-99fb-c76bb25a33c3",
   "metadata": {},
   "outputs": [],
   "source": [
    "A = np.array([\n",
    "    [6,1, 2],\n",
    "    [4, 1, 9]\n",
    "])\n",
    "\n",
    "B = np.array([\n",
    "    [1, 2],\n",
    "    [6, 8],\n",
    "    [1, 2]\n",
    "])\n",
    "\n",
    "C = np.array([\n",
    "    [1, 2],\n",
    "    [6, 8]\n",
    "])"
   ]
  },
  {
   "cell_type": "code",
   "execution_count": null,
   "id": "e3100ef4-68d3-4fc6-91a7-78aff66a0e46",
   "metadata": {},
   "outputs": [],
   "source": []
  },
  {
   "cell_type": "code",
   "execution_count": 9,
   "id": "103ccdf4-357e-4de0-9e47-09a1a29b5b98",
   "metadata": {},
   "outputs": [],
   "source": [
    "R = B.T@A.T + C"
   ]
  },
  {
   "cell_type": "markdown",
   "id": "4e2025b5-dbdf-4c9c-8575-6039da738cef",
   "metadata": {},
   "source": [
    "## Ответ"
   ]
  },
  {
   "cell_type": "code",
   "execution_count": 20,
   "id": "3eac79f1-243c-45c2-8b20-acbffa164860",
   "metadata": {},
   "outputs": [
    {
     "data": {
      "text/plain": [
       "array([[15, 21],\n",
       "       [30, 42]])"
      ]
     },
     "execution_count": 20,
     "metadata": {},
     "output_type": "execute_result"
    }
   ],
   "source": [
    "R"
   ]
  },
  {
   "cell_type": "markdown",
   "id": "f363c267-2d2f-4ce2-958b-fdabe1a44d99",
   "metadata": {},
   "source": [
    "# №2\n",
    "\n",
    "Решите систему линейных алгебраических уравнений (СЛАУ) методом обратной матрицы:\n",
    "\n",
    "$\n",
    "\\begin{cases}\n",
    "– 8x_1  – 5x_2 – 3x_3 = –7 \\\\\n",
    "x_1  – 6x_2 +   x_3 = –6 \\\\ \n",
    "10 x_3 =  6 \n",
    "\\end{cases}\n",
    "$"
   ]
  },
  {
   "cell_type": "code",
   "execution_count": 12,
   "id": "9fe8ac04-7f0f-4ce0-ad8b-360040999139",
   "metadata": {},
   "outputs": [],
   "source": [
    "A = np.array([\n",
    "    [-8, -5, -3],\n",
    "    [1, -6, 1],\n",
    "    [0, 0, 10]\n",
    "])"
   ]
  },
  {
   "cell_type": "code",
   "execution_count": 13,
   "id": "9bd84bca-e95f-45e3-845a-7b6f5457aea3",
   "metadata": {},
   "outputs": [
    {
     "data": {
      "text/plain": [
       "array([[-8, -5, -3],\n",
       "       [ 1, -6,  1],\n",
       "       [ 0,  0, 10]])"
      ]
     },
     "execution_count": 13,
     "metadata": {},
     "output_type": "execute_result"
    }
   ],
   "source": [
    "A"
   ]
  },
  {
   "cell_type": "code",
   "execution_count": 16,
   "id": "a46056a9-bf66-40e5-8b60-5604d7819583",
   "metadata": {},
   "outputs": [],
   "source": [
    "b = np.array([-7, -6, 6]).T"
   ]
  },
  {
   "cell_type": "markdown",
   "id": "184c96f9-e134-4911-8407-29fb276d5a2b",
   "metadata": {},
   "source": [
    "## Ответ"
   ]
  },
  {
   "cell_type": "code",
   "execution_count": 18,
   "id": "dcf93ed4-95c9-4b22-847c-3cf2a98bc57a",
   "metadata": {},
   "outputs": [
    {
     "data": {
      "text/plain": [
       "array([-0.03396226,  1.09433962,  0.6       ])"
      ]
     },
     "execution_count": 18,
     "metadata": {},
     "output_type": "execute_result"
    }
   ],
   "source": [
    "x = np.linalg.inv(A).dot(b)\n",
    "x"
   ]
  }
 ],
 "metadata": {
  "kernelspec": {
   "display_name": "Python 3 (ipykernel)",
   "language": "python",
   "name": "python3"
  },
  "language_info": {
   "codemirror_mode": {
    "name": "ipython",
    "version": 3
   },
   "file_extension": ".py",
   "mimetype": "text/x-python",
   "name": "python",
   "nbconvert_exporter": "python",
   "pygments_lexer": "ipython3",
   "version": "3.9.7"
  }
 },
 "nbformat": 4,
 "nbformat_minor": 5
}
