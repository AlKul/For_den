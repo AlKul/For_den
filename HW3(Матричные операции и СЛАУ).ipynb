{
 "cells": [
  {
   "cell_type": "markdown",
   "id": "cad129ab-b4f2-45a6-b0b0-0f07b67cd1bb",
   "metadata": {},
   "source": [
    "__Вариант 26__"
   ]
  },
  {
   "cell_type": "markdown",
   "id": "7f7c5194-03d2-49b8-9396-3264ff4d4b29",
   "metadata": {},
   "source": [
    "__№1__\n"
   ]
  },
  {
   "cell_type": "markdown",
   "id": "9742c768-8b05-42e7-b0e7-ad28b92faa69",
   "metadata": {},
   "source": [
    "Задания: \n",
    "\n",
    "\n",
    "$R = ||A \\cdot B \\cdot c|| - || d ||$"
   ]
  },
  {
   "cell_type": "code",
   "execution_count": 2,
   "id": "3105e55a-8891-4b56-aa27-27496da54877",
   "metadata": {},
   "outputs": [],
   "source": [
    "import numpy as np"
   ]
  },
  {
   "cell_type": "code",
   "execution_count": 3,
   "id": "0765ff44-2d72-4d15-99fb-c76bb25a33c3",
   "metadata": {},
   "outputs": [],
   "source": [
    "A = np.array([\n",
    "    [1, 2, 8],\n",
    "    [4, 2, 3]\n",
    "])\n",
    "\n",
    "B = np.array([\n",
    "    [7, 1],\n",
    "    [4, 4],\n",
    "    [1, 4]\n",
    "])\n",
    "\n",
    "c = np.array([\n",
    "    [5],\n",
    "    [9]\n",
    "])\n",
    "\n",
    "d = np.array([\n",
    "    [3],\n",
    "    [5],\n",
    "    [6]\n",
    "])"
   ]
  },
  {
   "cell_type": "code",
   "execution_count": null,
   "id": "e3100ef4-68d3-4fc6-91a7-78aff66a0e46",
   "metadata": {},
   "outputs": [],
   "source": []
  },
  {
   "cell_type": "markdown",
   "id": "4ad52cd7-836b-4a56-994b-89cf9dcaac5b",
   "metadata": {},
   "source": [
    "Результат __неопределен__, так как $||A \\cdot B \\cdot c||$ - матрица размера 1x2:"
   ]
  },
  {
   "cell_type": "code",
   "execution_count": 10,
   "id": "e1626e86-25b5-4048-b705-92afc0e31927",
   "metadata": {},
   "outputs": [
    {
     "data": {
      "text/plain": [
       "array([[484],\n",
       "       [411]])"
      ]
     },
     "execution_count": 10,
     "metadata": {},
     "output_type": "execute_result"
    }
   ],
   "source": [
    "A@B@c"
   ]
  },
  {
   "cell_type": "markdown",
   "id": "d4b6ccf6-ed36-4687-a612-2fd3de426c01",
   "metadata": {},
   "source": [
    "а вектор d - 1x3"
   ]
  },
  {
   "cell_type": "code",
   "execution_count": 4,
   "id": "103ccdf4-357e-4de0-9e47-09a1a29b5b98",
   "metadata": {},
   "outputs": [
    {
     "ename": "ValueError",
     "evalue": "operands could not be broadcast together with shapes (2,1) (3,1) ",
     "output_type": "error",
     "traceback": [
      "\u001b[0;31m---------------------------------------------------------------------------\u001b[0m",
      "\u001b[0;31mValueError\u001b[0m                                Traceback (most recent call last)",
      "\u001b[0;32m/var/folders/zn/1572lrw14snff0mc3dlr9grc0000gn/T/ipykernel_44486/1388768453.py\u001b[0m in \u001b[0;36m<module>\u001b[0;34m\u001b[0m\n\u001b[0;32m----> 1\u001b[0;31m \u001b[0mR\u001b[0m \u001b[0;34m=\u001b[0m \u001b[0mA\u001b[0m\u001b[0;34m@\u001b[0m\u001b[0mB\u001b[0m\u001b[0;34m@\u001b[0m\u001b[0mc\u001b[0m \u001b[0;34m-\u001b[0m \u001b[0md\u001b[0m\u001b[0;34m\u001b[0m\u001b[0;34m\u001b[0m\u001b[0m\n\u001b[0m",
      "\u001b[0;31mValueError\u001b[0m: operands could not be broadcast together with shapes (2,1) (3,1) "
     ]
    }
   ],
   "source": [
    "R = A@B@c - d"
   ]
  },
  {
   "cell_type": "markdown",
   "id": "f363c267-2d2f-4ce2-958b-fdabe1a44d99",
   "metadata": {
    "tags": []
   },
   "source": [
    "\n",
    "__№2__\n",
    "\n",
    "\n",
    "\n",
    "Решите систему линейных алгебраических уравнений (СЛАУ) методом обратной матрицы:\n",
    "\n",
    "\n",
    "х1+2х2+3х3=4\n",
    "\n",
    "2х1+х2-х3=3\n",
    "\n",
    "3х1+3х2+2х3=7"
   ]
  },
  {
   "cell_type": "code",
   "execution_count": 22,
   "id": "9fe8ac04-7f0f-4ce0-ad8b-360040999139",
   "metadata": {},
   "outputs": [],
   "source": [
    "A = np.array([\n",
    "    [1, 2, 3],\n",
    "    [2, 1, -1],\n",
    "    [3, 3, 2]\n",
    "])"
   ]
  },
  {
   "cell_type": "code",
   "execution_count": 23,
   "id": "9bd84bca-e95f-45e3-845a-7b6f5457aea3",
   "metadata": {},
   "outputs": [
    {
     "data": {
      "text/plain": [
       "array([[ 1,  2,  3],\n",
       "       [ 2,  1, -1],\n",
       "       [ 3,  3,  2]])"
      ]
     },
     "execution_count": 23,
     "metadata": {},
     "output_type": "execute_result"
    }
   ],
   "source": [
    "A"
   ]
  },
  {
   "cell_type": "code",
   "execution_count": 24,
   "id": "a46056a9-bf66-40e5-8b60-5604d7819583",
   "metadata": {},
   "outputs": [],
   "source": [
    "b = np.array([4, 3, 7]).T"
   ]
  },
  {
   "cell_type": "markdown",
   "id": "f07efa24-3712-4fac-b5f2-a7c2690863f0",
   "metadata": {},
   "source": [
    "__Решение__"
   ]
  },
  {
   "cell_type": "code",
   "execution_count": 25,
   "id": "dcf93ed4-95c9-4b22-847c-3cf2a98bc57a",
   "metadata": {},
   "outputs": [
    {
     "name": "stdout",
     "output_type": "stream",
     "text": [
      "[ 16. -16.   0.]\n"
     ]
    }
   ],
   "source": [
    "x = np.linalg.inv(A).dot(b)\n",
    "print(x)"
   ]
  },
  {
   "cell_type": "code",
   "execution_count": null,
   "id": "fc401302-efdd-4652-8e4c-1f1ca09549ac",
   "metadata": {},
   "outputs": [],
   "source": []
  },
  {
   "cell_type": "markdown",
   "id": "b45e428b-e9b7-43f0-b4c6-d8bb9f5562f3",
   "metadata": {},
   "source": [
    "__Проверка не пройдена:__"
   ]
  },
  {
   "cell_type": "code",
   "execution_count": 26,
   "id": "5ff88f75-b4b6-46cf-ae72-b716f3586a4f",
   "metadata": {},
   "outputs": [
    {
     "data": {
      "text/plain": [
       "array([-16.,  16.,   0.])"
      ]
     },
     "execution_count": 26,
     "metadata": {},
     "output_type": "execute_result"
    }
   ],
   "source": [
    "A@x"
   ]
  },
  {
   "cell_type": "code",
   "execution_count": null,
   "id": "1205ee5a-5781-471f-a0e2-7723d9afed10",
   "metadata": {},
   "outputs": [],
   "source": []
  },
  {
   "cell_type": "markdown",
   "id": "873ae25e-9911-4fd6-bbf8-1d6fe5f0430c",
   "metadata": {},
   "source": [
    "__Матрица коэффициентов вырождена__ => метод обратной матрицы неприменим!"
   ]
  },
  {
   "cell_type": "code",
   "execution_count": 30,
   "id": "5345f3ea-7cb2-4526-9863-285c18ad8f0e",
   "metadata": {},
   "outputs": [
    {
     "data": {
      "text/plain": [
       "5.551115123125763e-16"
      ]
     },
     "execution_count": 30,
     "metadata": {},
     "output_type": "execute_result"
    }
   ],
   "source": [
    "np.linalg.det(A)"
   ]
  },
  {
   "cell_type": "code",
   "execution_count": 29,
   "id": "71b0a4cc-bae3-4eb8-8bf0-da5128b1fd31",
   "metadata": {},
   "outputs": [
    {
     "data": {
      "text/plain": [
       "array([[  7.,   3.,   0.],\n",
       "       [-12.,  -4.,   8.],\n",
       "       [  3.,   1.,  -2.]])"
      ]
     },
     "execution_count": 29,
     "metadata": {},
     "output_type": "execute_result"
    }
   ],
   "source": [
    "np.linalg.inv(A)@A"
   ]
  }
 ],
 "metadata": {
  "kernelspec": {
   "display_name": "Python 3 (ipykernel)",
   "language": "python",
   "name": "python3"
  },
  "language_info": {
   "codemirror_mode": {
    "name": "ipython",
    "version": 3
   },
   "file_extension": ".py",
   "mimetype": "text/x-python",
   "name": "python",
   "nbconvert_exporter": "python",
   "pygments_lexer": "ipython3",
   "version": "3.9.7"
  }
 },
 "nbformat": 4,
 "nbformat_minor": 5
}
