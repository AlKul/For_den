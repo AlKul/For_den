{
 "cells": [
  {
   "cell_type": "markdown",
   "id": "be175298-d7cc-45d4-8fe3-37091f475ae9",
   "metadata": {},
   "source": [
    "__Вариант 6__"
   ]
  },
  {
   "cell_type": "markdown",
   "id": "1f77b625-dbf9-438f-9bd9-bad1bfd5c5b9",
   "metadata": {},
   "source": [
    "___\n",
    "\n",
    "__№1__\n"
   ]
  },
  {
   "cell_type": "markdown",
   "id": "9742c768-8b05-42e7-b0e7-ad28b92faa69",
   "metadata": {},
   "source": [
    "Задания: \n",
    "\n",
    "\n",
    "$R = ||A \\cdot B \\cdot c + B^T \\cdot d ||$"
   ]
  },
  {
   "cell_type": "code",
   "execution_count": 2,
   "id": "3105e55a-8891-4b56-aa27-27496da54877",
   "metadata": {},
   "outputs": [],
   "source": [
    "import numpy as np"
   ]
  },
  {
   "cell_type": "code",
   "execution_count": 4,
   "id": "0765ff44-2d72-4d15-99fb-c76bb25a33c3",
   "metadata": {},
   "outputs": [],
   "source": [
    "A = np.array([\n",
    "    [7, 8, 6],\n",
    "    [5, 1, 7]\n",
    "])\n",
    "\n",
    "B = np.array([\n",
    "    [6, 7],\n",
    "    [7, 6],\n",
    "    [9, 1]\n",
    "])\n",
    "\n",
    "c = np.array([\n",
    "    [6],\n",
    "    [9]\n",
    "])\n",
    "\n",
    "d = np.array([\n",
    "    [4],\n",
    "    [9],\n",
    "    [3]\n",
    "])"
   ]
  },
  {
   "cell_type": "code",
   "execution_count": null,
   "id": "e3100ef4-68d3-4fc6-91a7-78aff66a0e46",
   "metadata": {},
   "outputs": [],
   "source": []
  },
  {
   "cell_type": "code",
   "execution_count": 5,
   "id": "103ccdf4-357e-4de0-9e47-09a1a29b5b98",
   "metadata": {},
   "outputs": [],
   "source": [
    "R = A@B@c + B.T@d"
   ]
  },
  {
   "cell_type": "markdown",
   "id": "2039f472-1a7e-4ef6-b4a5-8cf6ec1c3e97",
   "metadata": {},
   "source": [
    "__Полученная матрица__"
   ]
  },
  {
   "cell_type": "code",
   "execution_count": 9,
   "id": "3eac79f1-243c-45c2-8b20-acbffa164860",
   "metadata": {},
   "outputs": [
    {
     "name": "stdout",
     "output_type": "stream",
     "text": [
      "[[1953]\n",
      " [1117]]\n"
     ]
    }
   ],
   "source": [
    "print(R)"
   ]
  },
  {
   "cell_type": "markdown",
   "id": "f363c267-2d2f-4ce2-958b-fdabe1a44d99",
   "metadata": {
    "tags": []
   },
   "source": [
    "___\n",
    "\n",
    "__№2__\n",
    "\n",
    "\n",
    "\n",
    "Решите систему линейных алгебраических уравнений (СЛАУ) методом обратной матрицы:\n",
    "\n",
    "\n",
    "* 8x1– x2 – 6x3 = 4 \n",
    "* –3x1 + 8x2 – 2x3 = 5 \n",
    "* – x1 – 10x3 = –6"
   ]
  },
  {
   "cell_type": "code",
   "execution_count": 10,
   "id": "9fe8ac04-7f0f-4ce0-ad8b-360040999139",
   "metadata": {},
   "outputs": [],
   "source": [
    "A = np.array([\n",
    "    [8, -1, -6],\n",
    "    [-3, 8, -2],\n",
    "    [-1, 0, -10]\n",
    "])"
   ]
  },
  {
   "cell_type": "code",
   "execution_count": 11,
   "id": "9bd84bca-e95f-45e3-845a-7b6f5457aea3",
   "metadata": {},
   "outputs": [
    {
     "data": {
      "text/plain": [
       "array([[  8,  -1,  -6],\n",
       "       [ -3,   8,  -2],\n",
       "       [ -1,   0, -10]])"
      ]
     },
     "execution_count": 11,
     "metadata": {},
     "output_type": "execute_result"
    }
   ],
   "source": [
    "A"
   ]
  },
  {
   "cell_type": "code",
   "execution_count": 12,
   "id": "a46056a9-bf66-40e5-8b60-5604d7819583",
   "metadata": {},
   "outputs": [],
   "source": [
    "b = np.array([4, 5, -6]).T"
   ]
  },
  {
   "cell_type": "markdown",
   "id": "f07efa24-3712-4fac-b5f2-a7c2690863f0",
   "metadata": {},
   "source": [
    "__Решение__"
   ]
  },
  {
   "cell_type": "code",
   "execution_count": 14,
   "id": "dcf93ed4-95c9-4b22-847c-3cf2a98bc57a",
   "metadata": {},
   "outputs": [
    {
     "name": "stdout",
     "output_type": "stream",
     "text": [
      "[1.01515152 1.13030303 0.49848485]\n"
     ]
    }
   ],
   "source": [
    "x = np.linalg.inv(A).dot(b)\n",
    "print(x)"
   ]
  },
  {
   "cell_type": "code",
   "execution_count": null,
   "id": "fc401302-efdd-4652-8e4c-1f1ca09549ac",
   "metadata": {},
   "outputs": [],
   "source": []
  },
  {
   "cell_type": "code",
   "execution_count": 16,
   "id": "5ff88f75-b4b6-46cf-ae72-b716f3586a4f",
   "metadata": {},
   "outputs": [
    {
     "data": {
      "text/plain": [
       "array([ 4.,  5., -6.])"
      ]
     },
     "execution_count": 16,
     "metadata": {},
     "output_type": "execute_result"
    }
   ],
   "source": [
    "A@x"
   ]
  }
 ],
 "metadata": {
  "kernelspec": {
   "display_name": "Python 3 (ipykernel)",
   "language": "python",
   "name": "python3"
  },
  "language_info": {
   "codemirror_mode": {
    "name": "ipython",
    "version": 3
   },
   "file_extension": ".py",
   "mimetype": "text/x-python",
   "name": "python",
   "nbconvert_exporter": "python",
   "pygments_lexer": "ipython3",
   "version": "3.9.7"
  }
 },
 "nbformat": 4,
 "nbformat_minor": 5
}
