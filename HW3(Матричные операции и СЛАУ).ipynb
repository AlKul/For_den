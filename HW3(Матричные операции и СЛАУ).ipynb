{
 "cells": [
  {
   "cell_type": "markdown",
   "id": "98ee8902-f9c1-4a87-9df4-af3f911ff189",
   "metadata": {
    "jp-MarkdownHeadingCollapsed": true,
    "tags": []
   },
   "source": [
    "# Вариант 2\n",
    "\n"
   ]
  },
  {
   "cell_type": "markdown",
   "id": "3ca174ee-5bcb-44a0-a2e4-010cf537d4f3",
   "metadata": {},
   "source": [
    "# Задание 1\n",
    "\n",
    "$ R = B \\cdot c + A^T \\cdot d$"
   ]
  },
  {
   "cell_type": "code",
   "execution_count": 1,
   "id": "3105e55a-8891-4b56-aa27-27496da54877",
   "metadata": {},
   "outputs": [],
   "source": [
    "import numpy as np"
   ]
  },
  {
   "cell_type": "code",
   "execution_count": 2,
   "id": "0765ff44-2d72-4d15-99fb-c76bb25a33c3",
   "metadata": {},
   "outputs": [],
   "source": [
    "A = np.array([\n",
    "    [6,1, 2],\n",
    "    [4, 1, 9],\n",
    "    [7, 8, 3]\n",
    "])\n",
    "\n",
    "B = np.array([\n",
    "    [4,6, 9],\n",
    "    [3, 8, 3],\n",
    "    [4, 3, 4]\n",
    "])\n",
    "\n",
    "c = np.array([\n",
    "    [2],\n",
    "    [6],\n",
    "    [3]\n",
    "])\n",
    "\n",
    "d = np.array([\n",
    "    [4],\n",
    "    [1],\n",
    "    [2]\n",
    "])"
   ]
  },
  {
   "cell_type": "code",
   "execution_count": null,
   "id": "e3100ef4-68d3-4fc6-91a7-78aff66a0e46",
   "metadata": {},
   "outputs": [],
   "source": []
  },
  {
   "cell_type": "code",
   "execution_count": 3,
   "id": "103ccdf4-357e-4de0-9e47-09a1a29b5b98",
   "metadata": {},
   "outputs": [],
   "source": [
    "R = B@c + A.T@d"
   ]
  },
  {
   "cell_type": "markdown",
   "id": "4e2025b5-dbdf-4c9c-8575-6039da738cef",
   "metadata": {},
   "source": [
    "## Ответ"
   ]
  },
  {
   "cell_type": "code",
   "execution_count": 4,
   "id": "3eac79f1-243c-45c2-8b20-acbffa164860",
   "metadata": {},
   "outputs": [
    {
     "data": {
      "text/plain": [
       "array([[113],\n",
       "       [ 84],\n",
       "       [ 61]])"
      ]
     },
     "execution_count": 4,
     "metadata": {},
     "output_type": "execute_result"
    }
   ],
   "source": [
    "R"
   ]
  },
  {
   "cell_type": "markdown",
   "id": "f363c267-2d2f-4ce2-958b-fdabe1a44d99",
   "metadata": {
    "tags": []
   },
   "source": [
    "# №2\n",
    "\n",
    "Решите систему линейных алгебраических уравнений (СЛАУ) методом обратной матрицы:\n",
    "\n",
    "$\n",
    "\\begin{cases}\n",
    "– 7x_1  – 3x_2 – 2x_3 = –7 \\\\\n",
    "-3x_1  – 5x_2 - x_3 = –5 \\\\ \n",
    "-x_1  – 3x_2 - 5x_3 = –5\n",
    "\\end{cases}\n",
    "$"
   ]
  },
  {
   "cell_type": "code",
   "execution_count": 5,
   "id": "9fe8ac04-7f0f-4ce0-ad8b-360040999139",
   "metadata": {},
   "outputs": [],
   "source": [
    "A = np.array([\n",
    "    [-7, -3, -2],\n",
    "    [-3, -5, -1],\n",
    "    [-1, -3, -5]\n",
    "])"
   ]
  },
  {
   "cell_type": "code",
   "execution_count": 6,
   "id": "9bd84bca-e95f-45e3-845a-7b6f5457aea3",
   "metadata": {},
   "outputs": [
    {
     "data": {
      "text/plain": [
       "array([[-7, -3, -2],\n",
       "       [-3, -5, -1],\n",
       "       [-1, -3, -5]])"
      ]
     },
     "execution_count": 6,
     "metadata": {},
     "output_type": "execute_result"
    }
   ],
   "source": [
    "A"
   ]
  },
  {
   "cell_type": "markdown",
   "id": "1da5f4a4-4218-4519-a37e-01448821197c",
   "metadata": {},
   "source": [
    "Матрица А невырождена, метод применим"
   ]
  },
  {
   "cell_type": "code",
   "execution_count": 7,
   "id": "a46056a9-bf66-40e5-8b60-5604d7819583",
   "metadata": {},
   "outputs": [],
   "source": [
    "b = np.array([-7, -5, 5]).T"
   ]
  },
  {
   "cell_type": "markdown",
   "id": "184c96f9-e134-4911-8407-29fb276d5a2b",
   "metadata": {},
   "source": [
    "## Ответ"
   ]
  },
  {
   "cell_type": "code",
   "execution_count": 8,
   "id": "dcf93ed4-95c9-4b22-847c-3cf2a98bc57a",
   "metadata": {},
   "outputs": [
    {
     "data": {
      "text/plain": [
       "array([ 1.2,  0.6, -1.6])"
      ]
     },
     "execution_count": 8,
     "metadata": {},
     "output_type": "execute_result"
    }
   ],
   "source": [
    "x = np.linalg.inv(A).dot(b)\n",
    "x"
   ]
  }
 ],
 "metadata": {
  "kernelspec": {
   "display_name": "Python 3 (ipykernel)",
   "language": "python",
   "name": "python3"
  },
  "language_info": {
   "codemirror_mode": {
    "name": "ipython",
    "version": 3
   },
   "file_extension": ".py",
   "mimetype": "text/x-python",
   "name": "python",
   "nbconvert_exporter": "python",
   "pygments_lexer": "ipython3",
   "version": "3.9.7"
  }
 },
 "nbformat": 4,
 "nbformat_minor": 5
}
