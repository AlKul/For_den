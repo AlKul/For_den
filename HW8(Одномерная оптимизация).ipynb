{
 "cells": [
  {
   "cell_type": "markdown",
   "id": "c7ef439e-f4ef-4d8f-9a1a-9ec107393bab",
   "metadata": {
    "jp-MarkdownHeadingCollapsed": true,
    "tags": []
   },
   "source": [
    "# Вариант 28\n",
    "\n"
   ]
  },
  {
   "cell_type": "markdown",
   "id": "e56b24b1-6f63-461e-ba3e-62de04391c1a",
   "metadata": {},
   "source": [
    "# 1\n"
   ]
  },
  {
   "cell_type": "markdown",
   "id": "56873b4e-bc0f-4841-b820-98dbbd3b6343",
   "metadata": {},
   "source": [
    "\n",
    "Уточнить минимум функции $f(x) = x^3 − B⋅x^2 + C⋅x − D$ на\n",
    "отрезке [-5.00, 5.00], при h=0.5 и ε= 0.01"
   ]
  },
  {
   "cell_type": "code",
   "execution_count": 1,
   "id": "4b99a91f-79fc-4f1c-a360-885a424a63a2",
   "metadata": {},
   "outputs": [],
   "source": [
    "B = 3.541\n",
    "\n",
    "C = -6.714\n",
    "\n",
    "D = -10.488\n"
   ]
  },
  {
   "cell_type": "code",
   "execution_count": 2,
   "id": "edcd2da7-2858-401e-8e67-0bdc8f5a0a16",
   "metadata": {},
   "outputs": [],
   "source": [
    "import numpy as np\n",
    "import matplotlib.pyplot as plt"
   ]
  },
  {
   "cell_type": "markdown",
   "id": "6215966c-a0da-4e75-bc9d-0b380912ca72",
   "metadata": {},
   "source": [
    "Зададим функцию"
   ]
  },
  {
   "cell_type": "code",
   "execution_count": 3,
   "id": "6f682cf8-b0ce-414e-9df7-bbcb2f36b969",
   "metadata": {},
   "outputs": [],
   "source": [
    "def f(x):\n",
    "    return x**3 - B*x**2 + C * x - D"
   ]
  },
  {
   "cell_type": "markdown",
   "id": "05e8b907-ac7a-44b8-a5a5-8561663696fd",
   "metadata": {},
   "source": [
    "### Решаем задачу методом деления отрезка"
   ]
  },
  {
   "cell_type": "code",
   "execution_count": 4,
   "id": "5bd4dd6b-ef12-4b24-8447-fb65fb04d0b4",
   "metadata": {},
   "outputs": [],
   "source": [
    "def bisect_minimizer(f, a = -5., b = 5., h = 0.5, eps = 0.01):\n",
    "    while True:\n",
    "        if abs(b - a) < eps:\n",
    "            return (b + a)/2, f((b + a)/2)\n",
    "        else:\n",
    "            x = (b + a)/2 # canter\n",
    "            l = (b - a) / 4\n",
    "            x1 = a + l\n",
    "            x2 = b - l\n",
    "            if f(x2) < f(x):\n",
    "                a = x\n",
    "                x = x2\n",
    "            elif f(x1) < f(x):\n",
    "                b = x\n",
    "                x = x1\n",
    "            else:\n",
    "                a = x1\n",
    "                b = x2\n",
    "\n",
    "        "
   ]
  },
  {
   "cell_type": "code",
   "execution_count": null,
   "id": "be81fe52-05d1-4912-984f-37f6692af381",
   "metadata": {},
   "outputs": [],
   "source": []
  },
  {
   "cell_type": "markdown",
   "id": "b2e241f9-77e9-4124-a9d6-73cacc789161",
   "metadata": {},
   "source": [
    "## Ответ"
   ]
  },
  {
   "cell_type": "code",
   "execution_count": 5,
   "id": "3c618771-49c4-41dd-9904-c1184e0c58d3",
   "metadata": {},
   "outputs": [
    {
     "name": "stdout",
     "output_type": "stream",
     "text": [
      "X_min: 3.0859375\n",
      "f(x_min) = -14.564549228668216\n"
     ]
    }
   ],
   "source": [
    "x_min, y_min = bisect_minimizer(f)\n",
    "print(f'X_min: {x_min}\\nf(x_min) = {y_min}')"
   ]
  },
  {
   "cell_type": "code",
   "execution_count": 8,
   "id": "0e798dcb-e772-422f-ae29-e5b094a20ea3",
   "metadata": {},
   "outputs": [
    {
     "data": {
      "image/png": "[encoded data removed]",
      "text/plain": [
       "<Figure size 432x288 with 1 Axes>"
      ]
     },
     "metadata": {
      "needs_background": "light"
     },
     "output_type": "display_data"
    }
   ],
   "source": [
    "xs = np.linspace(-5., 5., 1000)\n",
    "plt.plot(xs, f(xs), color = 'green')\n",
    "plt.scatter(x_min, y_min, color = 'red', marker = 'x')\n",
    "plt.show()"
   ]
  },
  {
   "cell_type": "code",
   "execution_count": null,
   "id": "e42162a1-9e5a-4139-8474-1035cda873dc",
   "metadata": {},
   "outputs": [],
   "source": []
  },
  {
   "cell_type": "code",
   "execution_count": null,
   "id": "d59c8e3b-3708-4f81-9dcb-1f93a783540a",
   "metadata": {},
   "outputs": [],
   "source": []
  }
 ],
 "metadata": {
  "kernelspec": {
   "display_name": "Python 3 (ipykernel)",
   "language": "python",
   "name": "python3"
  },
  "language_info": {
   "codemirror_mode": {
    "name": "ipython",
    "version": 3
   },
   "file_extension": ".py",
   "mimetype": "text/x-python",
   "name": "python",
   "nbconvert_exporter": "python",
   "pygments_lexer": "ipython3",
   "version": "3.9.7"
  }
 },
 "nbformat": 4,
 "nbformat_minor": 5
}
