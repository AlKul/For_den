{
 "cells": [
  {
   "cell_type": "markdown",
   "id": "836c548c-0cdc-4e7a-b615-449fb9d5d7f2",
   "metadata": {},
   "source": [
    "__Вариант 6__"
   ]
  },
  {
   "cell_type": "markdown",
   "id": "cf44b8b6-515d-46ae-ae50-76db3e78eeff",
   "metadata": {},
   "source": [
    "___\n",
    "\n",
    "__№1__\n"
   ]
  },
  {
   "cell_type": "markdown",
   "id": "c2a2a763-2e2f-4954-9109-2be13b502409",
   "metadata": {},
   "source": [
    "Задание: определить корни с точностью Ɛ=0,03"
   ]
  },
  {
   "cell_type": "markdown",
   "id": "70292142-0bad-47db-bc0c-340b4a4122d7",
   "metadata": {},
   "source": [
    "* sin (x1+1.5 )− x2=1.2\n",
    "\n",
    "* 2** x1 - x2 - 1.5 = 0"
   ]
  },
  {
   "cell_type": "markdown",
   "id": "53dfc33c-9b4a-48d2-8376-e50a9ee1a374",
   "metadata": {},
   "source": [
    "x_0 = {0.3, 0.3}"
   ]
  },
  {
   "cell_type": "code",
   "execution_count": 2,
   "id": "53bf5533-1db7-4548-ad63-75e01e7e3d31",
   "metadata": {},
   "outputs": [],
   "source": [
    "from scipy.optimize import fsolve\n",
    "import numpy as np\n",
    "import matplotlib.pyplot as plt"
   ]
  },
  {
   "cell_type": "code",
   "execution_count": 5,
   "id": "ac40f2ee-256d-4ca6-bb1a-134d2737e09c",
   "metadata": {},
   "outputs": [],
   "source": [
    "def f1(x1, x2):\n",
    "    res = np.sin(x1 + 1.5) - x2 - 1.2\n",
    "    return res\n",
    "\n",
    "def f2(x1, x2):\n",
    "    res = 2**x1 - x2 - 1.5\n",
    "    return res"
   ]
  },
  {
   "cell_type": "code",
   "execution_count": 6,
   "id": "d689a8ea-8006-489a-af24-85855bea95a1",
   "metadata": {},
   "outputs": [],
   "source": [
    "def equations(p):\n",
    "    x1, x2 = p\n",
    "    return (f1(x1, x2), f2(x1, x2))"
   ]
  },
  {
   "cell_type": "code",
   "execution_count": 7,
   "id": "ca957028-26db-467c-9830-10d9b8d886d4",
   "metadata": {},
   "outputs": [],
   "source": [
    "x1, x2 =  fsolve(equations, (0.3, 0.3))"
   ]
  },
  {
   "cell_type": "markdown",
   "id": "6110d767-9afc-477f-a131-f1fbfc2a9250",
   "metadata": {},
   "source": [
    "__Ответ__"
   ]
  },
  {
   "cell_type": "code",
   "execution_count": 8,
   "id": "44121e6c-d4b2-4b18-a5a9-b9e40a248dd0",
   "metadata": {},
   "outputs": [
    {
     "data": {
      "text/plain": [
       "(0.3384470715425577, -0.2356051435065705)"
      ]
     },
     "execution_count": 8,
     "metadata": {},
     "output_type": "execute_result"
    }
   ],
   "source": [
    "x1, x2"
   ]
  },
  {
   "cell_type": "code",
   "execution_count": 11,
   "id": "698b88bd-6d4a-4a46-a27e-b248ad9465fc",
   "metadata": {},
   "outputs": [
    {
     "data": {
      "text/plain": [
       "(-1.1102230246251565e-15, 6.661338147750939e-16)"
      ]
     },
     "execution_count": 11,
     "metadata": {},
     "output_type": "execute_result"
    }
   ],
   "source": [
    "equations((x1, x2))"
   ]
  },
  {
   "cell_type": "markdown",
   "id": "f7e4740c-deb5-4e82-ad53-1af6c3652f87",
   "metadata": {},
   "source": [
    "__Проверим eps__"
   ]
  },
  {
   "cell_type": "code",
   "execution_count": 12,
   "id": "3908824e-f913-4780-af71-30c96099bec6",
   "metadata": {},
   "outputs": [],
   "source": [
    "eps = 0.03"
   ]
  },
  {
   "cell_type": "code",
   "execution_count": 13,
   "id": "41db262b-7845-41ec-944d-0f922bef4f46",
   "metadata": {},
   "outputs": [
    {
     "data": {
      "text/plain": [
       "True"
      ]
     },
     "execution_count": 13,
     "metadata": {},
     "output_type": "execute_result"
    }
   ],
   "source": [
    "(abs(f1(x1, x2) - 0.0) < eps) & (abs(f2(x1, x2) - 0.0) < eps)"
   ]
  },
  {
   "cell_type": "markdown",
   "id": "113c2ad1-495e-4f5a-92a9-cdc4770b28ed",
   "metadata": {},
   "source": [
    "__Вывод:__\n",
    "\n",
    "Условия соблюдены"
   ]
  }
 ],
 "metadata": {
  "kernelspec": {
   "display_name": "Python 3 (ipykernel)",
   "language": "python",
   "name": "python3"
  },
  "language_info": {
   "codemirror_mode": {
    "name": "ipython",
    "version": 3
   },
   "file_extension": ".py",
   "mimetype": "text/x-python",
   "name": "python",
   "nbconvert_exporter": "python",
   "pygments_lexer": "ipython3",
   "version": "3.9.7"
  }
 },
 "nbformat": 4,
 "nbformat_minor": 5
}
