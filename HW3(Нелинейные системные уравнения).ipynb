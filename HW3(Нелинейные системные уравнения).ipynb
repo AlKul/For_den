{
 "cells": [
  {
   "cell_type": "markdown",
   "id": "c2a2a763-2e2f-4954-9109-2be13b502409",
   "metadata": {},
   "source": [
    "# №1\n",
    "\n",
    "Задание: определить корни с точностью Ɛ=0,03"
   ]
  },
  {
   "cell_type": "code",
   "execution_count": null,
   "id": "53bf5533-1db7-4548-ad63-75e01e7e3d31",
   "metadata": {},
   "outputs": [],
   "source": []
  }
 ],
 "metadata": {
  "kernelspec": {
   "display_name": "Python 3 (ipykernel)",
   "language": "python",
   "name": "python3"
  },
  "language_info": {
   "codemirror_mode": {
    "name": "ipython",
    "version": 3
   },
   "file_extension": ".py",
   "mimetype": "text/x-python",
   "name": "python",
   "nbconvert_exporter": "python",
   "pygments_lexer": "ipython3",
   "version": "3.9.7"
  }
 },
 "nbformat": 4,
 "nbformat_minor": 5
}
