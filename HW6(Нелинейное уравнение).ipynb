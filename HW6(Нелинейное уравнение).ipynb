{
 "cells": [
  {
   "cell_type": "markdown",
   "id": "3a88dc88-41ab-41a2-bb1e-203b07338f3c",
   "metadata": {},
   "source": [
    "# №1 (Вариант 18)\n"
   ]
  },
  {
   "cell_type": "markdown",
   "id": "a821ac55-4981-4596-b8ed-5e8361376e95",
   "metadata": {},
   "source": [
    "Вычислить х* на интервале [-5;5] при точности ε=0,01 \n",
    "* методом половинного деления, \n",
    "* методом касательных и \n",
    "* методом простых итераций, \n",
    "* сравнить получившиеся значения; \n",
    "* построить график функции f(x). \n",
    "* Использовать решатели Python"
   ]
  },
  {
   "cell_type": "markdown",
   "id": "aa8d11a2-62b4-4fe8-b0ef-31eb2bb63ee2",
   "metadata": {},
   "source": [
    "\n",
    "$ у = x^3–0.107*x^2–10.890*x+0.336$\n"
   ]
  },
  {
   "cell_type": "code",
   "execution_count": 29,
   "id": "cf038656-90fc-46ed-8438-e4e868f8030e",
   "metadata": {},
   "outputs": [],
   "source": [
    "import matplotlib.pyplot as plt\n",
    "import numpy as np"
   ]
  },
  {
   "cell_type": "code",
   "execution_count": 30,
   "id": "3c8965c6-eeb3-45fd-9348-9c2dbb6b3372",
   "metadata": {},
   "outputs": [],
   "source": [
    "def func(x):\n",
    "    return x**3 - 0.107*x**2-10.890*x+0.336"
   ]
  },
  {
   "cell_type": "code",
   "execution_count": 31,
   "id": "93d57e2e-8465-4e0b-80a7-7bc7859575a0",
   "metadata": {},
   "outputs": [
    {
     "data": {
      "image/png": "[encoded data removed]",
      "text/plain": [
       "<Figure size 864x432 with 1 Axes>"
      ]
     },
     "metadata": {
      "needs_background": "light"
     },
     "output_type": "display_data"
    }
   ],
   "source": [
    "x = np.linspace(-5, 5, 1000)\n",
    "y = func(x)\n",
    "plt.figure(figsize = (12,6))\n",
    "plt.plot(x, y)\n",
    "plt.xlabel('x')\n",
    "plt.ylabel('y(x)')\n",
    "plt.grid()\n",
    "plt.show()"
   ]
  },
  {
   "cell_type": "markdown",
   "id": "e42d9a4a-b6b8-49ad-bf0f-761eb0ef6fb2",
   "metadata": {},
   "source": [
    "## Метод половинного деления"
   ]
  },
  {
   "cell_type": "code",
   "execution_count": 32,
   "id": "5348f024-5780-433b-b004-ccb862ed3331",
   "metadata": {},
   "outputs": [],
   "source": [
    "def bisect(f, a, b, eps = 0.01):\n",
    "    while True:\n",
    "        c = (a+b)/2\n",
    "        if f(c)*f(a) < 0:\n",
    "            b = c\n",
    "        else:\n",
    "            a = c\n",
    "        if abs(f(c)) < eps:\n",
    "            return c, f(c) "
   ]
  },
  {
   "cell_type": "code",
   "execution_count": 33,
   "id": "9d5e1782-f6c0-4dad-a122-23018042d3a3",
   "metadata": {},
   "outputs": [
    {
     "data": {
      "text/plain": [
       "(-3.262939453125, -0.009572684521904684)"
      ]
     },
     "execution_count": 33,
     "metadata": {},
     "output_type": "execute_result"
    }
   ],
   "source": [
    "bisect(func, -5, 5, 0.01)"
   ]
  },
  {
   "cell_type": "markdown",
   "id": "4affdd9a-632e-4cca-9340-6998a63d356b",
   "metadata": {},
   "source": [
    "## Метод касательных"
   ]
  },
  {
   "cell_type": "markdown",
   "id": "575505d3-3d06-473c-afbe-291a7fe5291c",
   "metadata": {},
   "source": [
    "Введем производную:"
   ]
  },
  {
   "cell_type": "code",
   "execution_count": 34,
   "id": "be76a98e-7bd3-4ed8-a7b7-b3a3b5500148",
   "metadata": {},
   "outputs": [],
   "source": [
    "def f_der(x):\n",
    "    return 3* x**2 - 2* 0.107*x - 10.890"
   ]
  },
  {
   "cell_type": "code",
   "execution_count": 35,
   "id": "68e3e4c2-1c91-400a-9d3e-1c745db0893b",
   "metadata": {},
   "outputs": [],
   "source": [
    "def newton(f, f_der, x, eps = 0.01):\n",
    "    while True: \n",
    "        x = x - f(x) / f_der(x)\n",
    "        if abs(f(x)) < eps:\n",
    "            return x, f(x)"
   ]
  },
  {
   "cell_type": "code",
   "execution_count": 36,
   "id": "086d2c44-3135-47e5-bf39-00366ecc045e",
   "metadata": {},
   "outputs": [
    {
     "data": {
      "text/plain": [
       "(0.030792912676677636, 0.0005929211262571399)"
      ]
     },
     "execution_count": 36,
     "metadata": {},
     "output_type": "execute_result"
    }
   ],
   "source": [
    "newton(func, f_der, 0.1)"
   ]
  },
  {
   "cell_type": "markdown",
   "id": "ff4fd00c-f404-4d35-be2b-caa9fbfa67be",
   "metadata": {},
   "source": [
    "## Метод простых итераций"
   ]
  },
  {
   "cell_type": "code",
   "execution_count": 37,
   "id": "4ef0a109-6a0b-48d1-bd34-f28b74d1be23",
   "metadata": {},
   "outputs": [],
   "source": [
    "def fixiter(f, f_der, x, eps = 0.01):\n",
    "    while True:\n",
    "        l = 1/f_der(x)\n",
    "        x = x - l* f(x)\n",
    "        if abs(f(x)) < eps:\n",
    "            return x, f(x)"
   ]
  },
  {
   "cell_type": "code",
   "execution_count": 38,
   "id": "53967e60-3c5a-4bf2-8097-a2b3a81d69ec",
   "metadata": {},
   "outputs": [
    {
     "data": {
      "text/plain": [
       "(0.030853994490358125, -7.248863489234258e-05)"
      ]
     },
     "execution_count": 38,
     "metadata": {},
     "output_type": "execute_result"
    }
   ],
   "source": [
    "fixiter(func, f_der, 0.)"
   ]
  },
  {
   "cell_type": "code",
   "execution_count": null,
   "id": "6d68673c-c67b-4e9a-959a-474d48bff645",
   "metadata": {},
   "outputs": [],
   "source": []
  },
  {
   "cell_type": "markdown",
   "id": "c52bc7b8-926e-4110-a179-ac2249bb79f4",
   "metadata": {},
   "source": [
    "## Встроенные функции"
   ]
  },
  {
   "cell_type": "code",
   "execution_count": 39,
   "id": "63857844-b95b-40be-9e8d-d34bcd904bc8",
   "metadata": {},
   "outputs": [],
   "source": [
    "from scipy.optimize import root"
   ]
  },
  {
   "cell_type": "code",
   "execution_count": 40,
   "id": "233d8d55-f7fa-481f-a905-5cfa8dc78986",
   "metadata": {},
   "outputs": [
    {
     "data": {
      "text/plain": [
       "array([3.33865187])"
      ]
     },
     "execution_count": 40,
     "metadata": {},
     "output_type": "execute_result"
    }
   ],
   "source": [
    "root(func, 3)['x']"
   ]
  },
  {
   "cell_type": "code",
   "execution_count": 41,
   "id": "fc49ed7b-a3ef-4462-92dc-4b01fe2dea3f",
   "metadata": {},
   "outputs": [],
   "source": [
    "from scipy.optimize import fsolve"
   ]
  },
  {
   "cell_type": "code",
   "execution_count": 42,
   "id": "77b8c0e1-972d-42aa-b8ba-4b498344aa55",
   "metadata": {},
   "outputs": [
    {
     "data": {
      "text/plain": [
       "array([-3.26249921,  3.33865187])"
      ]
     },
     "execution_count": 42,
     "metadata": {},
     "output_type": "execute_result"
    }
   ],
   "source": [
    "fsolve(func, [-5, 5])"
   ]
  },
  {
   "cell_type": "markdown",
   "id": "d3084a88-5e7a-4365-af3f-b8c9365a7488",
   "metadata": {},
   "source": [
    "## выводы"
   ]
  },
  {
   "cell_type": "markdown",
   "id": "63874d26-b510-405d-af0b-ff9c71fa82dd",
   "metadata": {},
   "source": [
    "Каждый способ определил верный корень с удовлетворительной погрешностью, но, в зависимости от выбора способа, определяются разные корни"
   ]
  },
  {
   "cell_type": "code",
   "execution_count": null,
   "id": "f279167d-67c6-4dec-98b7-4509f838a40b",
   "metadata": {},
   "outputs": [],
   "source": []
  },
  {
   "cell_type": "code",
   "execution_count": null,
   "id": "9b822b04-f7e8-417f-b333-077c3ceb8a83",
   "metadata": {},
   "outputs": [],
   "source": []
  }
 ],
 "metadata": {
  "kernelspec": {
   "display_name": "Python 3 (ipykernel)",
   "language": "python",
   "name": "python3"
  },
  "language_info": {
   "codemirror_mode": {
    "name": "ipython",
    "version": 3
   },
   "file_extension": ".py",
   "mimetype": "text/x-python",
   "name": "python",
   "nbconvert_exporter": "python",
   "pygments_lexer": "ipython3",
   "version": "3.9.7"
  }
 },
 "nbformat": 4,
 "nbformat_minor": 5
}
