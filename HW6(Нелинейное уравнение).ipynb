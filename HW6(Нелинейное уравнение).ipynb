{
 "cells": [
  {
   "cell_type": "markdown",
   "id": "cb94ff4e-810b-4abb-85f7-186e576bcb0e",
   "metadata": {},
   "source": [
    "__Вариант 6__"
   ]
  },
  {
   "cell_type": "markdown",
   "id": "3a88dc88-41ab-41a2-bb1e-203b07338f3c",
   "metadata": {},
   "source": [
    "___\n",
    "\n",
    "__№1__\n"
   ]
  },
  {
   "cell_type": "markdown",
   "id": "a821ac55-4981-4596-b8ed-5e8361376e95",
   "metadata": {},
   "source": [
    "Вычислить х* на интервале [-5;5] при точности ε=0,01\n",
    "1) методом половинного деления\n",
    "2) методом касательных \n",
    "3) методом простых итераций\n",
    "\n",
    "Cравнить получившиеся значения; построить график функции f(x). \n",
    "Использовать решатели Python"
   ]
  },
  {
   "cell_type": "markdown",
   "id": "aa8d11a2-62b4-4fe8-b0ef-31eb2bb63ee2",
   "metadata": {},
   "source": [
    "\n",
    "у=x3+3,640*x2–6,480*x–12,154;\n"
   ]
  },
  {
   "cell_type": "code",
   "execution_count": 33,
   "id": "cf038656-90fc-46ed-8438-e4e868f8030e",
   "metadata": {},
   "outputs": [],
   "source": [
    "import numpy as np"
   ]
  },
  {
   "cell_type": "code",
   "execution_count": 15,
   "id": "3c8965c6-eeb3-45fd-9348-9c2dbb6b3372",
   "metadata": {},
   "outputs": [],
   "source": [
    "def func(x):\n",
    "    return x**3+3.640*x**2-6.480*x-12.154"
   ]
  },
  {
   "cell_type": "markdown",
   "id": "e42d9a4a-b6b8-49ad-bf0f-761eb0ef6fb2",
   "metadata": {},
   "source": [
    "__Метод половинного деления__"
   ]
  },
  {
   "cell_type": "code",
   "execution_count": 34,
   "id": "5348f024-5780-433b-b004-ccb862ed3331",
   "metadata": {},
   "outputs": [],
   "source": [
    "def bisect(f, a, b, eps = 0.01):\n",
    "    while True:\n",
    "        c = (a+b)/2\n",
    "        if f(c)*f(a) < 0:\n",
    "            b = c\n",
    "        else:\n",
    "            a = c\n",
    "        if abs(f(c)) < eps:\n",
    "            return c, f(c) "
   ]
  },
  {
   "cell_type": "code",
   "execution_count": 35,
   "id": "9d5e1782-f6c0-4dad-a122-23018042d3a3",
   "metadata": {},
   "outputs": [
    {
     "data": {
      "text/plain": [
       "2.120361328125"
      ]
     },
     "execution_count": 35,
     "metadata": {},
     "output_type": "execute_result"
    }
   ],
   "source": [
    "bisect(func, -5, 5, 0.01)[0]"
   ]
  },
  {
   "cell_type": "markdown",
   "id": "4affdd9a-632e-4cca-9340-6998a63d356b",
   "metadata": {},
   "source": [
    "__Метод касательных__"
   ]
  },
  {
   "cell_type": "code",
   "execution_count": 36,
   "id": "be76a98e-7bd3-4ed8-a7b7-b3a3b5500148",
   "metadata": {},
   "outputs": [],
   "source": [
    "def f_der(x):\n",
    "    return 3* x**2 + 2* 3.640*x - 6.480"
   ]
  },
  {
   "cell_type": "code",
   "execution_count": 37,
   "id": "68e3e4c2-1c91-400a-9d3e-1c745db0893b",
   "metadata": {},
   "outputs": [],
   "source": [
    "def newton(f, f_der, x, eps = 0.01):\n",
    "    while True: \n",
    "        x = x - f(x) / f_der(x)\n",
    "        if abs(f(x)) < eps:\n",
    "            return x, f(x)"
   ]
  },
  {
   "cell_type": "code",
   "execution_count": 38,
   "id": "086d2c44-3135-47e5-bf39-00366ecc045e",
   "metadata": {},
   "outputs": [
    {
     "data": {
      "text/plain": [
       "-1.2793314266027507"
      ]
     },
     "execution_count": 38,
     "metadata": {},
     "output_type": "execute_result"
    }
   ],
   "source": [
    "newton(func, f_der, 0.)[0]"
   ]
  },
  {
   "cell_type": "markdown",
   "id": "ff4fd00c-f404-4d35-be2b-caa9fbfa67be",
   "metadata": {},
   "source": [
    "__Метод простых итераций__"
   ]
  },
  {
   "cell_type": "code",
   "execution_count": 39,
   "id": "4ef0a109-6a0b-48d1-bd34-f28b74d1be23",
   "metadata": {},
   "outputs": [],
   "source": [
    "def fixiter(f, f_der, x, eps = 0.01):\n",
    "    while True:\n",
    "        l = 1/f_der(x)\n",
    "        x = x - l* f(x)\n",
    "        if abs(f(x)) < eps:\n",
    "            return x, f(x)"
   ]
  },
  {
   "cell_type": "code",
   "execution_count": 40,
   "id": "53967e60-3c5a-4bf2-8097-a2b3a81d69ec",
   "metadata": {},
   "outputs": [
    {
     "data": {
      "text/plain": [
       "-1.2793314266027507"
      ]
     },
     "execution_count": 40,
     "metadata": {},
     "output_type": "execute_result"
    }
   ],
   "source": [
    "fixiter(func, f_der, 0.)[0]"
   ]
  },
  {
   "cell_type": "code",
   "execution_count": null,
   "id": "6d68673c-c67b-4e9a-959a-474d48bff645",
   "metadata": {},
   "outputs": [],
   "source": []
  },
  {
   "cell_type": "markdown",
   "id": "c52bc7b8-926e-4110-a179-ac2249bb79f4",
   "metadata": {},
   "source": [
    "__встроенными функциями__"
   ]
  },
  {
   "cell_type": "code",
   "execution_count": 41,
   "id": "63857844-b95b-40be-9e8d-d34bcd904bc8",
   "metadata": {},
   "outputs": [],
   "source": [
    "from scipy.optimize import root"
   ]
  },
  {
   "cell_type": "code",
   "execution_count": 42,
   "id": "233d8d55-f7fa-481f-a905-5cfa8dc78986",
   "metadata": {},
   "outputs": [
    {
     "name": "stdout",
     "output_type": "stream",
     "text": [
      "[2.12017185]\n"
     ]
    }
   ],
   "source": [
    "print(root(func, 3)['x'])"
   ]
  },
  {
   "cell_type": "markdown",
   "id": "d3084a88-5e7a-4365-af3f-b8c9365a7488",
   "metadata": {},
   "source": [
    "__Сравнение__"
   ]
  },
  {
   "cell_type": "markdown",
   "id": "63874d26-b510-405d-af0b-ff9c71fa82dd",
   "metadata": {},
   "source": [
    "Методом половинного деления нашли один корень, погрешность соответствует требованиям задачи.\n",
    "Корни, найденные методом касательных и методом простых итераций совпадают,погрешность также удовлетворительная\n"
   ]
  },
  {
   "cell_type": "code",
   "execution_count": 49,
   "id": "93d57e2e-8465-4e0b-80a7-7bc7859575a0",
   "metadata": {},
   "outputs": [
    {
     "data": {
      "image/png": "[encoded data removed]",
      "text/plain": [
       "<Figure size 1152x432 with 1 Axes>"
      ]
     },
     "metadata": {
      "needs_background": "light"
     },
     "output_type": "display_data"
    }
   ],
   "source": [
    "x = np.linspace(-5, 5, 1000)\n",
    "y = func(x)\n",
    "plt.figure(figsize = (16,6))\n",
    "plt.plot(x, y, color = 'purple')\n",
    "plt.xlabel('x')\n",
    "plt.ylabel('y')\n",
    "plt.show()"
   ]
  },
  {
   "cell_type": "code",
   "execution_count": null,
   "id": "f279167d-67c6-4dec-98b7-4509f838a40b",
   "metadata": {},
   "outputs": [],
   "source": [
    "\n"
   ]
  }
 ],
 "metadata": {
  "kernelspec": {
   "display_name": "Python 3 (ipykernel)",
   "language": "python",
   "name": "python3"
  },
  "language_info": {
   "codemirror_mode": {
    "name": "ipython",
    "version": 3
   },
   "file_extension": ".py",
   "mimetype": "text/x-python",
   "name": "python",
   "nbconvert_exporter": "python",
   "pygments_lexer": "ipython3",
   "version": "3.9.7"
  }
 },
 "nbformat": 4,
 "nbformat_minor": 5
}
